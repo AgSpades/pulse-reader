{
 "cells": [
  {
   "cell_type": "code",
   "execution_count": null,
   "id": "d5b1ba98",
   "metadata": {},
   "outputs": [],
   "source": [
    "%matplotlib inline\n",
    "import pandas as pd\n",
    "import numpy as np\n",
    "import matplotlib.pyplot as plt\n",
    "import seaborn as sns; sns.set()\n",
    "\n",
    "from sklearn.linear_model import LinearRegression\n",
    "from sklearn.svm import SVR\n",
    "from sklearn.metrics import mean_squared_error, r2_score\n",
    "import warnings\n",
    "warnings.filterwarnings('ignore')\n"
   ]
  },
  {
   "cell_type": "code",
   "execution_count": 2,
   "id": "2c7d653d",
   "metadata": {},
   "outputs": [
    {
     "name": "stderr",
     "output_type": "stream",
     "text": [
      "<>:8: SyntaxWarning: invalid escape sequence '\\s'\n",
      "<>:9: SyntaxWarning: invalid escape sequence '\\s'\n",
      "<>:10: SyntaxWarning: invalid escape sequence '\\s'\n",
      "<>:8: SyntaxWarning: invalid escape sequence '\\s'\n",
      "<>:9: SyntaxWarning: invalid escape sequence '\\s'\n",
      "<>:10: SyntaxWarning: invalid escape sequence '\\s'\n",
      "/tmp/ipykernel_24200/2806764328.py:8: SyntaxWarning: invalid escape sequence '\\s'\n",
      "  train = pd.read_csv((dir_path+'train_FD001.txt'), sep='\\s+', header=None, names=col_names)\n",
      "/tmp/ipykernel_24200/2806764328.py:9: SyntaxWarning: invalid escape sequence '\\s'\n",
      "  test = pd.read_csv((dir_path+'test_FD001.txt'), sep='\\s+', header=None, names=col_names)\n",
      "/tmp/ipykernel_24200/2806764328.py:10: SyntaxWarning: invalid escape sequence '\\s'\n",
      "  y_test = pd.read_csv((dir_path+'RUL_FD001.txt'), sep='\\s+', header=None, names=['RUL'])\n"
     ]
    },
    {
     "data": {
      "application/vnd.microsoft.datawrangler.viewer.v0+json": {
       "columns": [
        {
         "name": "index",
         "rawType": "int64",
         "type": "integer"
        },
        {
         "name": "unit_nr",
         "rawType": "int64",
         "type": "integer"
        },
        {
         "name": "time_cycles",
         "rawType": "int64",
         "type": "integer"
        },
        {
         "name": "setting_1",
         "rawType": "float64",
         "type": "float"
        },
        {
         "name": "setting_2",
         "rawType": "float64",
         "type": "float"
        },
        {
         "name": "setting_3",
         "rawType": "float64",
         "type": "float"
        },
        {
         "name": "s_1",
         "rawType": "float64",
         "type": "float"
        },
        {
         "name": "s_2",
         "rawType": "float64",
         "type": "float"
        },
        {
         "name": "s_3",
         "rawType": "float64",
         "type": "float"
        },
        {
         "name": "s_4",
         "rawType": "float64",
         "type": "float"
        },
        {
         "name": "s_5",
         "rawType": "float64",
         "type": "float"
        },
        {
         "name": "s_6",
         "rawType": "float64",
         "type": "float"
        },
        {
         "name": "s_7",
         "rawType": "float64",
         "type": "float"
        },
        {
         "name": "s_8",
         "rawType": "float64",
         "type": "float"
        },
        {
         "name": "s_9",
         "rawType": "float64",
         "type": "float"
        },
        {
         "name": "s_10",
         "rawType": "float64",
         "type": "float"
        },
        {
         "name": "s_11",
         "rawType": "float64",
         "type": "float"
        },
        {
         "name": "s_12",
         "rawType": "float64",
         "type": "float"
        },
        {
         "name": "s_13",
         "rawType": "float64",
         "type": "float"
        },
        {
         "name": "s_14",
         "rawType": "float64",
         "type": "float"
        },
        {
         "name": "s_15",
         "rawType": "float64",
         "type": "float"
        },
        {
         "name": "s_16",
         "rawType": "float64",
         "type": "float"
        },
        {
         "name": "s_17",
         "rawType": "int64",
         "type": "integer"
        },
        {
         "name": "s_18",
         "rawType": "int64",
         "type": "integer"
        },
        {
         "name": "s_19",
         "rawType": "float64",
         "type": "float"
        },
        {
         "name": "s_20",
         "rawType": "float64",
         "type": "float"
        },
        {
         "name": "s_21",
         "rawType": "float64",
         "type": "float"
        }
       ],
       "ref": "fb58a056-543b-4e1a-b166-41984fbc0568",
       "rows": [
        [
         "0",
         "1",
         "1",
         "-0.0007",
         "-0.0004",
         "100.0",
         "518.67",
         "641.82",
         "1589.7",
         "1400.6",
         "14.62",
         "21.61",
         "554.36",
         "2388.06",
         "9046.19",
         "1.3",
         "47.47",
         "521.66",
         "2388.02",
         "8138.62",
         "8.4195",
         "0.03",
         "392",
         "2388",
         "100.0",
         "39.06",
         "23.419"
        ],
        [
         "1",
         "1",
         "2",
         "0.0019",
         "-0.0003",
         "100.0",
         "518.67",
         "642.15",
         "1591.82",
         "1403.14",
         "14.62",
         "21.61",
         "553.75",
         "2388.04",
         "9044.07",
         "1.3",
         "47.49",
         "522.28",
         "2388.07",
         "8131.49",
         "8.4318",
         "0.03",
         "392",
         "2388",
         "100.0",
         "39.0",
         "23.4236"
        ],
        [
         "2",
         "1",
         "3",
         "-0.0043",
         "0.0003",
         "100.0",
         "518.67",
         "642.35",
         "1587.99",
         "1404.2",
         "14.62",
         "21.61",
         "554.26",
         "2388.08",
         "9052.94",
         "1.3",
         "47.27",
         "522.42",
         "2388.03",
         "8133.23",
         "8.4178",
         "0.03",
         "390",
         "2388",
         "100.0",
         "38.95",
         "23.3442"
        ],
        [
         "3",
         "1",
         "4",
         "0.0007",
         "0.0",
         "100.0",
         "518.67",
         "642.35",
         "1582.79",
         "1401.87",
         "14.62",
         "21.61",
         "554.45",
         "2388.11",
         "9049.48",
         "1.3",
         "47.13",
         "522.86",
         "2388.08",
         "8133.83",
         "8.3682",
         "0.03",
         "392",
         "2388",
         "100.0",
         "38.88",
         "23.3739"
        ],
        [
         "4",
         "1",
         "5",
         "-0.0019",
         "-0.0002",
         "100.0",
         "518.67",
         "642.37",
         "1582.85",
         "1406.22",
         "14.62",
         "21.61",
         "554.0",
         "2388.06",
         "9055.15",
         "1.3",
         "47.28",
         "522.19",
         "2388.04",
         "8133.8",
         "8.4294",
         "0.03",
         "393",
         "2388",
         "100.0",
         "38.9",
         "23.4044"
        ]
       ],
       "shape": {
        "columns": 26,
        "rows": 5
       }
      },
      "text/html": [
       "<div>\n",
       "<style scoped>\n",
       "    .dataframe tbody tr th:only-of-type {\n",
       "        vertical-align: middle;\n",
       "    }\n",
       "\n",
       "    .dataframe tbody tr th {\n",
       "        vertical-align: top;\n",
       "    }\n",
       "\n",
       "    .dataframe thead th {\n",
       "        text-align: right;\n",
       "    }\n",
       "</style>\n",
       "<table border=\"1\" class=\"dataframe\">\n",
       "  <thead>\n",
       "    <tr style=\"text-align: right;\">\n",
       "      <th></th>\n",
       "      <th>unit_nr</th>\n",
       "      <th>time_cycles</th>\n",
       "      <th>setting_1</th>\n",
       "      <th>setting_2</th>\n",
       "      <th>setting_3</th>\n",
       "      <th>s_1</th>\n",
       "      <th>s_2</th>\n",
       "      <th>s_3</th>\n",
       "      <th>s_4</th>\n",
       "      <th>s_5</th>\n",
       "      <th>...</th>\n",
       "      <th>s_12</th>\n",
       "      <th>s_13</th>\n",
       "      <th>s_14</th>\n",
       "      <th>s_15</th>\n",
       "      <th>s_16</th>\n",
       "      <th>s_17</th>\n",
       "      <th>s_18</th>\n",
       "      <th>s_19</th>\n",
       "      <th>s_20</th>\n",
       "      <th>s_21</th>\n",
       "    </tr>\n",
       "  </thead>\n",
       "  <tbody>\n",
       "    <tr>\n",
       "      <th>0</th>\n",
       "      <td>1</td>\n",
       "      <td>1</td>\n",
       "      <td>-0.0007</td>\n",
       "      <td>-0.0004</td>\n",
       "      <td>100.0</td>\n",
       "      <td>518.67</td>\n",
       "      <td>641.82</td>\n",
       "      <td>1589.70</td>\n",
       "      <td>1400.60</td>\n",
       "      <td>14.62</td>\n",
       "      <td>...</td>\n",
       "      <td>521.66</td>\n",
       "      <td>2388.02</td>\n",
       "      <td>8138.62</td>\n",
       "      <td>8.4195</td>\n",
       "      <td>0.03</td>\n",
       "      <td>392</td>\n",
       "      <td>2388</td>\n",
       "      <td>100.0</td>\n",
       "      <td>39.06</td>\n",
       "      <td>23.4190</td>\n",
       "    </tr>\n",
       "    <tr>\n",
       "      <th>1</th>\n",
       "      <td>1</td>\n",
       "      <td>2</td>\n",
       "      <td>0.0019</td>\n",
       "      <td>-0.0003</td>\n",
       "      <td>100.0</td>\n",
       "      <td>518.67</td>\n",
       "      <td>642.15</td>\n",
       "      <td>1591.82</td>\n",
       "      <td>1403.14</td>\n",
       "      <td>14.62</td>\n",
       "      <td>...</td>\n",
       "      <td>522.28</td>\n",
       "      <td>2388.07</td>\n",
       "      <td>8131.49</td>\n",
       "      <td>8.4318</td>\n",
       "      <td>0.03</td>\n",
       "      <td>392</td>\n",
       "      <td>2388</td>\n",
       "      <td>100.0</td>\n",
       "      <td>39.00</td>\n",
       "      <td>23.4236</td>\n",
       "    </tr>\n",
       "    <tr>\n",
       "      <th>2</th>\n",
       "      <td>1</td>\n",
       "      <td>3</td>\n",
       "      <td>-0.0043</td>\n",
       "      <td>0.0003</td>\n",
       "      <td>100.0</td>\n",
       "      <td>518.67</td>\n",
       "      <td>642.35</td>\n",
       "      <td>1587.99</td>\n",
       "      <td>1404.20</td>\n",
       "      <td>14.62</td>\n",
       "      <td>...</td>\n",
       "      <td>522.42</td>\n",
       "      <td>2388.03</td>\n",
       "      <td>8133.23</td>\n",
       "      <td>8.4178</td>\n",
       "      <td>0.03</td>\n",
       "      <td>390</td>\n",
       "      <td>2388</td>\n",
       "      <td>100.0</td>\n",
       "      <td>38.95</td>\n",
       "      <td>23.3442</td>\n",
       "    </tr>\n",
       "    <tr>\n",
       "      <th>3</th>\n",
       "      <td>1</td>\n",
       "      <td>4</td>\n",
       "      <td>0.0007</td>\n",
       "      <td>0.0000</td>\n",
       "      <td>100.0</td>\n",
       "      <td>518.67</td>\n",
       "      <td>642.35</td>\n",
       "      <td>1582.79</td>\n",
       "      <td>1401.87</td>\n",
       "      <td>14.62</td>\n",
       "      <td>...</td>\n",
       "      <td>522.86</td>\n",
       "      <td>2388.08</td>\n",
       "      <td>8133.83</td>\n",
       "      <td>8.3682</td>\n",
       "      <td>0.03</td>\n",
       "      <td>392</td>\n",
       "      <td>2388</td>\n",
       "      <td>100.0</td>\n",
       "      <td>38.88</td>\n",
       "      <td>23.3739</td>\n",
       "    </tr>\n",
       "    <tr>\n",
       "      <th>4</th>\n",
       "      <td>1</td>\n",
       "      <td>5</td>\n",
       "      <td>-0.0019</td>\n",
       "      <td>-0.0002</td>\n",
       "      <td>100.0</td>\n",
       "      <td>518.67</td>\n",
       "      <td>642.37</td>\n",
       "      <td>1582.85</td>\n",
       "      <td>1406.22</td>\n",
       "      <td>14.62</td>\n",
       "      <td>...</td>\n",
       "      <td>522.19</td>\n",
       "      <td>2388.04</td>\n",
       "      <td>8133.80</td>\n",
       "      <td>8.4294</td>\n",
       "      <td>0.03</td>\n",
       "      <td>393</td>\n",
       "      <td>2388</td>\n",
       "      <td>100.0</td>\n",
       "      <td>38.90</td>\n",
       "      <td>23.4044</td>\n",
       "    </tr>\n",
       "  </tbody>\n",
       "</table>\n",
       "<p>5 rows × 26 columns</p>\n",
       "</div>"
      ],
      "text/plain": [
       "   unit_nr  time_cycles  setting_1  setting_2  setting_3     s_1     s_2  \\\n",
       "0        1            1    -0.0007    -0.0004      100.0  518.67  641.82   \n",
       "1        1            2     0.0019    -0.0003      100.0  518.67  642.15   \n",
       "2        1            3    -0.0043     0.0003      100.0  518.67  642.35   \n",
       "3        1            4     0.0007     0.0000      100.0  518.67  642.35   \n",
       "4        1            5    -0.0019    -0.0002      100.0  518.67  642.37   \n",
       "\n",
       "       s_3      s_4    s_5  ...    s_12     s_13     s_14    s_15  s_16  s_17  \\\n",
       "0  1589.70  1400.60  14.62  ...  521.66  2388.02  8138.62  8.4195  0.03   392   \n",
       "1  1591.82  1403.14  14.62  ...  522.28  2388.07  8131.49  8.4318  0.03   392   \n",
       "2  1587.99  1404.20  14.62  ...  522.42  2388.03  8133.23  8.4178  0.03   390   \n",
       "3  1582.79  1401.87  14.62  ...  522.86  2388.08  8133.83  8.3682  0.03   392   \n",
       "4  1582.85  1406.22  14.62  ...  522.19  2388.04  8133.80  8.4294  0.03   393   \n",
       "\n",
       "   s_18   s_19   s_20     s_21  \n",
       "0  2388  100.0  39.06  23.4190  \n",
       "1  2388  100.0  39.00  23.4236  \n",
       "2  2388  100.0  38.95  23.3442  \n",
       "3  2388  100.0  38.88  23.3739  \n",
       "4  2388  100.0  38.90  23.4044  \n",
       "\n",
       "[5 rows x 26 columns]"
      ]
     },
     "execution_count": 2,
     "metadata": {},
     "output_type": "execute_result"
    }
   ],
   "source": [
    "dir_path = './data/CMaps/'\n",
    "\n",
    "index_names = ['unit_nr', 'time_cycles']\n",
    "setting_names = ['setting_1', 'setting_2', 'setting_3']\n",
    "sensor_names = ['s_{}'.format(i) for i in range(1,22)] \n",
    "col_names = index_names + setting_names + sensor_names\n",
    "\n",
    "train = pd.read_csv((dir_path+'train_FD001.txt'), sep='\\s+', header=None, names=col_names)\n",
    "test = pd.read_csv((dir_path+'test_FD001.txt'), sep='\\s+', header=None, names=col_names)\n",
    "y_test = pd.read_csv((dir_path+'RUL_FD001.txt'), sep='\\s+', header=None, names=['RUL'])\n",
    "\n",
    "train.head()"
   ]
  },
  {
   "cell_type": "code",
   "execution_count": 3,
   "id": "703ad1ef",
   "metadata": {},
   "outputs": [
    {
     "data": {
      "application/vnd.microsoft.datawrangler.viewer.v0+json": {
       "columns": [
        {
         "name": "index",
         "rawType": "int64",
         "type": "integer"
        },
        {
         "name": "unit_nr",
         "rawType": "int64",
         "type": "integer"
        },
        {
         "name": "time_cycles",
         "rawType": "int64",
         "type": "integer"
        },
        {
         "name": "RUL",
         "rawType": "int64",
         "type": "integer"
        }
       ],
       "ref": "56b610a5-8ce5-420d-a882-33aeb70b2301",
       "rows": [
        [
         "0",
         "1",
         "1",
         "191"
        ],
        [
         "1",
         "1",
         "2",
         "190"
        ],
        [
         "2",
         "1",
         "3",
         "189"
        ],
        [
         "3",
         "1",
         "4",
         "188"
        ],
        [
         "4",
         "1",
         "5",
         "187"
        ]
       ],
       "shape": {
        "columns": 3,
        "rows": 5
       }
      },
      "text/html": [
       "<div>\n",
       "<style scoped>\n",
       "    .dataframe tbody tr th:only-of-type {\n",
       "        vertical-align: middle;\n",
       "    }\n",
       "\n",
       "    .dataframe tbody tr th {\n",
       "        vertical-align: top;\n",
       "    }\n",
       "\n",
       "    .dataframe thead th {\n",
       "        text-align: right;\n",
       "    }\n",
       "</style>\n",
       "<table border=\"1\" class=\"dataframe\">\n",
       "  <thead>\n",
       "    <tr style=\"text-align: right;\">\n",
       "      <th></th>\n",
       "      <th>unit_nr</th>\n",
       "      <th>time_cycles</th>\n",
       "      <th>RUL</th>\n",
       "    </tr>\n",
       "  </thead>\n",
       "  <tbody>\n",
       "    <tr>\n",
       "      <th>0</th>\n",
       "      <td>1</td>\n",
       "      <td>1</td>\n",
       "      <td>191</td>\n",
       "    </tr>\n",
       "    <tr>\n",
       "      <th>1</th>\n",
       "      <td>1</td>\n",
       "      <td>2</td>\n",
       "      <td>190</td>\n",
       "    </tr>\n",
       "    <tr>\n",
       "      <th>2</th>\n",
       "      <td>1</td>\n",
       "      <td>3</td>\n",
       "      <td>189</td>\n",
       "    </tr>\n",
       "    <tr>\n",
       "      <th>3</th>\n",
       "      <td>1</td>\n",
       "      <td>4</td>\n",
       "      <td>188</td>\n",
       "    </tr>\n",
       "    <tr>\n",
       "      <th>4</th>\n",
       "      <td>1</td>\n",
       "      <td>5</td>\n",
       "      <td>187</td>\n",
       "    </tr>\n",
       "  </tbody>\n",
       "</table>\n",
       "</div>"
      ],
      "text/plain": [
       "   unit_nr  time_cycles  RUL\n",
       "0        1            1  191\n",
       "1        1            2  190\n",
       "2        1            3  189\n",
       "3        1            4  188\n",
       "4        1            5  187"
      ]
     },
     "execution_count": 3,
     "metadata": {},
     "output_type": "execute_result"
    }
   ],
   "source": [
    "def add_remaining_useful_life(df):\n",
    "    # Get the total number of cycles for each unit\n",
    "    grouped_by_unit = df.groupby(by=\"unit_nr\")\n",
    "    max_cycle = grouped_by_unit[\"time_cycles\"].max()\n",
    "    \n",
    "    # Merge the max cycle back into the original frame\n",
    "    result_frame = df.merge(max_cycle.to_frame(name='max_cycle'), left_on='unit_nr', right_index=True)\n",
    "    \n",
    "    # Calculate remaining useful life for each row\n",
    "    remaining_useful_life = result_frame[\"max_cycle\"] - result_frame[\"time_cycles\"]\n",
    "    result_frame[\"RUL\"] = remaining_useful_life\n",
    "    \n",
    "    # drop max_cycle as it's no longer needed\n",
    "    result_frame = result_frame.drop(\"max_cycle\", axis=1)\n",
    "    return result_frame\n",
    "\n",
    "train = add_remaining_useful_life(train)\n",
    "train[index_names+['RUL']].head()"
   ]
  },
  {
   "cell_type": "code",
   "execution_count": 4,
   "id": "a563d2da",
   "metadata": {},
   "outputs": [
    {
     "name": "stderr",
     "output_type": "stream",
     "text": [
      "/tmp/ipykernel_24200/3690746213.py:2: FutureWarning: A value is trying to be set on a copy of a DataFrame or Series through chained assignment using an inplace method.\n",
      "The behavior will change in pandas 3.0. This inplace method will never work because the intermediate object on which we are setting values always behaves as a copy.\n",
      "\n",
      "For example, when doing 'df[col].method(value, inplace=True)', try using 'df.method({col: value}, inplace=True)' or df[col] = df[col].method(value) instead, to perform the operation inplace on the original object.\n",
      "\n",
      "\n",
      "  clipped_rul['RUL'].clip(upper=125, inplace=True)\n"
     ]
    }
   ],
   "source": [
    "clipped_rul = train.loc[train['unit_nr']==20].copy()\n",
    "clipped_rul['RUL'].clip(upper=125, inplace=True)"
   ]
  },
  {
   "cell_type": "code",
   "execution_count": 5,
   "id": "3f4e3323",
   "metadata": {},
   "outputs": [
    {
     "data": {
      "image/png": "[encoded data removed]",
      "text/plain": [
       "<Figure size 1300x500 with 2 Axes>"
      ]
     },
     "metadata": {},
     "output_type": "display_data"
    }
   ],
   "source": [
    "fig, ax1 = plt.subplots(1,1, figsize=(13,5))\n",
    "\n",
    "signal = ax1.plot('RUL', 's_12', 'b',\n",
    "                 data=train.loc[train['unit_nr']==20])\n",
    "plt.xlim(250, 0)  # reverse the x-axis so RUL counts down to zero\n",
    "plt.xticks(np.arange(0, 275, 25))\n",
    "ax1.set_ylabel('s_12', labelpad=20)\n",
    "ax1.set_xlabel('RUL', labelpad=20)\n",
    "\n",
    "ax2 = ax1.twinx()\n",
    "rul_line = ax2.plot('RUL', 'RUL', 'k', linewidth=4,\n",
    "                   data=train.loc[train['unit_nr']==20])\n",
    "rul = train.loc[train['unit_nr']==20, 'RUL']\n",
    "rul_line2 = ax2.plot(rul, rul.where(rul <= 125, 125), '--g', linewidth=4, label='clipped_rul')  # SET LABEL MANUALLY?\n",
    "ax2.set_ylabel('RUL', labelpad=20)\n",
    "\n",
    "# code to have equal spacing of y ticks for both axes, so the gridlines allign\n",
    "# from https://stackoverflow.com/questions/20243683/matplotlib-align-twinx-tick-marks?rq=1\n",
    "ax2.set_ylim(0, 250)  # set limits of axis you want to display neatly\n",
    "ax2.set_yticks(\n",
    "    np.linspace(ax2.get_ybound()[0], ax2.get_ybound()[1], 6))  # choose integer to neatly divide your axis, in our case 6\n",
    "ax1.set_yticks(\n",
    "    np.linspace(ax1.get_ybound()[0], ax1.get_ybound()[1], 6))  # apply same spacing to other axis\n",
    "\n",
    "\n",
    "# code to have a unified legend\n",
    "# from https://stackoverflow.com/questions/5484922/secondary-axis-with-twinx-how-to-add-to-legend\n",
    "lines = signal+rul_line+rul_line2\n",
    "labels = [line.get_label() for line in lines]\n",
    "ax1.legend(lines, labels, loc=0)\n",
    "\n",
    "plt.show()"
   ]
  },
  {
   "cell_type": "markdown",
   "id": "d33a9bce",
   "metadata": {},
   "source": [
    "Retry the baseline model using clipped_rul"
   ]
  },
  {
   "cell_type": "code",
   "execution_count": 6,
   "id": "1c28d50a",
   "metadata": {},
   "outputs": [],
   "source": [
    "# prep data\n",
    "# drop unwanted columns and split target variable from training set\n",
    "drop_sensors = ['s_1','s_5','s_6','s_10','s_16','s_18','s_19']\n",
    "drop_labels = index_names+setting_names+drop_sensors\n",
    "\n",
    "X_train = train.drop(drop_labels, axis=1)\n",
    "y_train = X_train.pop('RUL')\n",
    "\n",
    "# Since the true RUL values for the test set are only provided for the last time cycle of each enginge, \n",
    "# the test set is subsetted to represent the same\n",
    "X_test = test.groupby('unit_nr').last().reset_index().drop(drop_labels, axis=1)"
   ]
  },
  {
   "cell_type": "code",
   "execution_count": 7,
   "id": "c9d3a490",
   "metadata": {},
   "outputs": [],
   "source": [
    "def evaluate(y_true, y_hat, label='test'):\n",
    "    mse = mean_squared_error(y_true, y_hat)\n",
    "    rmse = np.sqrt(mse)\n",
    "    variance = r2_score(y_true, y_hat)\n",
    "    print('{} set RMSE:{}, R2:{}'.format(label, rmse, variance))"
   ]
  },
  {
   "cell_type": "code",
   "execution_count": 8,
   "id": "0ed49f14",
   "metadata": {},
   "outputs": [
    {
     "name": "stdout",
     "output_type": "stream",
     "text": [
      "train set RMSE:44.66819159545435, R2:0.579448652779675\n",
      "test set RMSE:31.95263302774737, R2:0.4087736807655352\n"
     ]
    }
   ],
   "source": [
    "lm = LinearRegression()\n",
    "lm.fit(X_train, y_train)\n",
    "\n",
    "# predict and evaluate\n",
    "y_hat_train = lm.predict(X_train)\n",
    "evaluate(y_train, y_hat_train, 'train')\n",
    "\n",
    "y_hat_test = lm.predict(X_test)\n",
    "evaluate(y_test, y_hat_test)"
   ]
  },
  {
   "cell_type": "code",
   "execution_count": 9,
   "id": "a4d3ec00",
   "metadata": {},
   "outputs": [],
   "source": [
    "y_train_clipped = y_train.clip(upper=125)"
   ]
  },
  {
   "cell_type": "code",
   "execution_count": 10,
   "id": "060a0fc2",
   "metadata": {},
   "outputs": [
    {
     "data": {
      "text/plain": [
       "True"
      ]
     },
     "execution_count": 10,
     "metadata": {},
     "output_type": "execute_result"
    }
   ],
   "source": [
    "all(y_train.where(y_train <= 125, 125) == y_train_clipped)"
   ]
  },
  {
   "cell_type": "code",
   "execution_count": 11,
   "id": "40a7786b",
   "metadata": {},
   "outputs": [
    {
     "name": "stdout",
     "output_type": "stream",
     "text": [
      "train set RMSE:21.491018701514925, R2:0.7340432868050568\n",
      "test set RMSE:21.900213406890565, R2:0.7222608196546229\n"
     ]
    }
   ],
   "source": [
    "lm = LinearRegression()\n",
    "lm.fit(X_train, y_train_clipped)  \n",
    "\n",
    "# predict and evaluate\n",
    "y_hat_train = lm.predict(X_train)\n",
    "evaluate(y_train_clipped, y_hat_train, 'train')\n",
    "\n",
    "y_hat_test = lm.predict(X_test)\n",
    "evaluate(y_test, y_hat_test)"
   ]
  },
  {
   "cell_type": "markdown",
   "id": "1e19eeb1",
   "metadata": {},
   "source": [
    "# SVR"
   ]
  },
  {
   "cell_type": "markdown",
   "id": "6a0902c7",
   "metadata": {},
   "source": [
    "using clipped RUL"
   ]
  },
  {
   "cell_type": "markdown",
   "id": "426165a2",
   "metadata": {},
   "source": [
    "## Scaling"
   ]
  },
  {
   "cell_type": "code",
   "execution_count": 12,
   "id": "ed67991a",
   "metadata": {},
   "outputs": [],
   "source": [
    "from sklearn.preprocessing import MinMaxScaler, StandardScaler\n",
    "scaler = MinMaxScaler()\n",
    "# scaler = StandardScaler()  # for this specific dataset, the type of scaler does not have any effect\n",
    "scaler.fit(X_train)\n",
    "X_train_scaled = scaler.transform(X_train)\n",
    "X_test_scaled = scaler.transform(X_test)"
   ]
  },
  {
   "cell_type": "code",
   "execution_count": 13,
   "id": "0d789f47",
   "metadata": {},
   "outputs": [
    {
     "name": "stdout",
     "output_type": "stream",
     "text": [
      "train set RMSE:21.57826397506789, R2:0.7318795396979632\n",
      "test set RMSE:21.580480163289746, R2:0.7303113540952123\n"
     ]
    }
   ],
   "source": [
    "# SVM regression + clipped RUL + scaled\n",
    "svr = SVR(kernel='linear')\n",
    "svr.fit(X_train_scaled, y_train_clipped)  \n",
    "\n",
    "# predict and evaluate\n",
    "y_hat_train = svr.predict(X_train_scaled)\n",
    "evaluate(y_train_clipped, y_hat_train, 'train')\n",
    "\n",
    "y_hat_test = svr.predict(X_test_scaled)\n",
    "evaluate(y_test, y_hat_test)"
   ]
  },
  {
   "cell_type": "markdown",
   "id": "2a072bd5",
   "metadata": {},
   "source": [
    "current RMSE is already an improvement over the baseline regression with clipped RUL"
   ]
  },
  {
   "cell_type": "markdown",
   "id": "444d49ee",
   "metadata": {},
   "source": [
    "## Feature Engineering"
   ]
  },
  {
   "cell_type": "code",
   "execution_count": 13,
   "id": "d4ff8bfa",
   "metadata": {},
   "outputs": [
    {
     "name": "stdout",
     "output_type": "stream",
     "text": [
      "(20631, 14)\n",
      "(20631, 120)\n"
     ]
    }
   ],
   "source": [
    "from sklearn.preprocessing import PolynomialFeatures\n",
    "# 2nd degree polynomialFeatures of [a, b] becomes [1, a, b, a^2, ab, b^2]\n",
    "poly = PolynomialFeatures(2)\n",
    "X_train_transformed = poly.fit_transform(X_train_scaled)\n",
    "X_test_transformed = poly.fit_transform(X_test_scaled)\n",
    "\n",
    "print(X_train_scaled.shape)\n",
    "print(X_train_transformed.shape)"
   ]
  },
  {
   "cell_type": "code",
   "execution_count": 15,
   "id": "e38b97af",
   "metadata": {},
   "outputs": [
    {
     "name": "stdout",
     "output_type": "stream",
     "text": [
      "train set RMSE:19.716789731130856, R2:0.776143678570414\n",
      "test set RMSE:20.585402508371494, R2:0.7546086882115086\n"
     ]
    }
   ],
   "source": [
    "# SVM regression + clipped RUL + engineered features\n",
    "svr_f = SVR(kernel='linear')\n",
    "svr_f.fit(X_train_transformed, y_train_clipped)  \n",
    "\n",
    "# predict and evaluate\n",
    "y_hat_train = svr_f.predict(X_train_transformed)\n",
    "evaluate(y_train_clipped, y_hat_train, 'train')\n",
    "\n",
    "y_hat_test = svr_f.predict(X_test_transformed)\n",
    "evaluate(y_test, y_hat_test)"
   ]
  },
  {
   "cell_type": "markdown",
   "id": "4f3df453",
   "metadata": {},
   "source": [
    "## Feature selection\n"
   ]
  },
  {
   "cell_type": "code",
   "execution_count": 16,
   "id": "e994ab1a",
   "metadata": {},
   "outputs": [
    {
     "name": "stdout",
     "output_type": "stream",
     "text": [
      "Original features:\n",
      " Index(['s_2', 's_3', 's_4', 's_7', 's_8', 's_9', 's_11', 's_12', 's_13',\n",
      "       's_14', 's_15', 's_17', 's_20', 's_21'],\n",
      "      dtype='object')\n",
      "Best features:\n",
      " ['s_2' 's_3' 's_4' 's_7' 's_9' 's_11' 's_12' 's_14' 's_15' 's_17' 's_20'\n",
      " 's_21' 's_4 s_9' 's_4 s_13' 's_4 s_14' 's_7 s_9' 's_7 s_13' 's_7 s_14'\n",
      " 's_8^2' 's_8 s_11' 's_8 s_12' 's_8 s_13' 's_9^2' 's_9 s_11' 's_9 s_12'\n",
      " 's_9 s_14' 's_9 s_20' 's_9 s_21' 's_11^2' 's_11 s_13' 's_11 s_14'\n",
      " 's_12 s_13' 's_12 s_14' 's_13^2' 's_14^2' 's_14 s_20' 's_14 s_21']\n"
     ]
    },
    {
     "data": {
      "text/plain": [
       "(37,)"
      ]
     },
     "execution_count": 16,
     "metadata": {},
     "output_type": "execute_result"
    }
   ],
   "source": [
    "from sklearn.feature_selection import SelectFromModel\n",
    "select_features = SelectFromModel(svr_f, threshold='mean', prefit=True)\n",
    "select_features.get_support()\n",
    "feature_names = poly.get_feature_names_out(X_train.columns)\n",
    "\n",
    "print('Original features:\\n', X_train.columns)\n",
    "print('Best features:\\n', np.array(feature_names)[select_features.get_support()])\n",
    "np.array(feature_names)[select_features.get_support()].shape"
   ]
  },
  {
   "cell_type": "code",
   "execution_count": 17,
   "id": "a40f8375",
   "metadata": {},
   "outputs": [
    {
     "name": "stdout",
     "output_type": "stream",
     "text": [
      "train set RMSE:19.74678910148113, R2:0.7754619593165268\n",
      "test set RMSE:20.55613819605453, R2:0.755305891345072\n"
     ]
    }
   ],
   "source": [
    "# SVR regression + clipped RUL + engineered features + selection\n",
    "svr = SVR(kernel='linear')\n",
    "svr.fit(X_train_transformed[:, select_features.get_support()], y_train_clipped) \n",
    "\n",
    "# predict and evaluate\n",
    "y_hat_train = svr.predict(X_train_transformed[:, select_features.get_support()])\n",
    "evaluate(y_train_clipped, y_hat_train, 'train')\n",
    "\n",
    "y_hat_test = svr.predict(X_test_transformed[:, select_features.get_support()])\n",
    "evaluate(y_test, y_hat_test)"
   ]
  },
  {
   "cell_type": "code",
   "execution_count": 19,
   "id": "5abf0395",
   "metadata": {},
   "outputs": [
    {
     "data": {
      "text/plain": [
       "['model/svr_model.pkl']"
      ]
     },
     "execution_count": 19,
     "metadata": {},
     "output_type": "execute_result"
    }
   ],
   "source": [
    "import joblib\n",
    "# save the model\n",
    "joblib.dump(svr, 'model/svr_model.pkl')\n",
    "# load the model\n",
    "# svr_loaded = joblib.load('svr_model.pkl')"
   ]
  },
  {
   "cell_type": "code",
   "execution_count": 20,
   "id": "ab7eb597",
   "metadata": {},
   "outputs": [
    {
     "name": "stdout",
     "output_type": "stream",
     "text": [
      "test set RMSE:20.55613819605453, R2:0.755305891345072\n"
     ]
    }
   ],
   "source": [
    "# Testing the model\n",
    "svr_loaded = joblib.load('model/svr_model.pkl')\n",
    "y_hat_test = svr_loaded.predict(X_test_transformed[:, select_features.get_support()])\n",
    "evaluate(y_test, y_hat_test)"
   ]
  },
  {
   "cell_type": "markdown",
   "id": "c5fb3499",
   "metadata": {},
   "source": [
    "## Model Comparison"
   ]
  },
  {
   "cell_type": "code",
   "execution_count": 21,
   "id": "c021728c",
   "metadata": {},
   "outputs": [
    {
     "name": "stdout",
     "output_type": "stream",
     "text": [
      "train set RMSE:17.717488733490466, R2:0.8192404366855629\n",
      "test set RMSE:17.648713628435548, R2:0.8196290601568719\n"
     ]
    },
    {
     "data": {
      "text/plain": [
       "['model/mlp_model.pkl']"
      ]
     },
     "execution_count": 21,
     "metadata": {},
     "output_type": "execute_result"
    }
   ],
   "source": [
    "from sklearn.neural_network import MLPRegressor\n",
    "\n",
    "# Neural Network + clipped RUL + engineered features + selection\n",
    "mlp = MLPRegressor(hidden_layer_sizes=(100, 50, 25), activation='relu',\n",
    "                   solver='adam', alpha=0.01, batch_size=32,\n",
    "                   learning_rate='adaptive', learning_rate_init=0.001,\n",
    "                   max_iter=500, random_state=42, early_stopping=True,\n",
    "                   validation_fraction=0.1, n_iter_no_change=20)\n",
    "mlp.fit(X_train_transformed[:, select_features.get_support()], y_train_clipped)\n",
    "\n",
    "# predict and evaluate\n",
    "y_hat_train = mlp.predict(X_train_transformed[:, select_features.get_support()])\n",
    "evaluate(y_train_clipped, y_hat_train, 'train')\n",
    "\n",
    "y_hat_test = mlp.predict(X_test_transformed[:, select_features.get_support()])\n",
    "evaluate(y_test, y_hat_test)\n",
    "\n",
    "# save the model\n",
    "joblib.dump(mlp, 'model/mlp_model.pkl')"
   ]
  },
  {
   "cell_type": "markdown",
   "id": "72bf46ac",
   "metadata": {},
   "source": [
    "## Neural Network (Multi-layer Perceptron)"
   ]
  },
  {
   "cell_type": "code",
   "execution_count": 22,
   "id": "1451227a",
   "metadata": {},
   "outputs": [
    {
     "name": "stdout",
     "output_type": "stream",
     "text": [
      "train set RMSE:14.355819078156719, R2:0.8813267309779491\n",
      "test set RMSE:18.43926707809845, R2:0.8031081383461465\n"
     ]
    },
    {
     "name": "stderr",
     "output_type": "stream",
     "text": [
      "/home/agspades/projects/pulse-reader/.venv/lib/python3.13/site-packages/sklearn/utils/validation.py:2749: UserWarning: X does not have valid feature names, but LGBMRegressor was fitted with feature names\n",
      "  warnings.warn(\n",
      "/home/agspades/projects/pulse-reader/.venv/lib/python3.13/site-packages/sklearn/utils/validation.py:2749: UserWarning: X does not have valid feature names, but LGBMRegressor was fitted with feature names\n",
      "  warnings.warn(\n"
     ]
    }
   ],
   "source": [
    "try:\n",
    "    import lightgbm as lgb\n",
    "    \n",
    "    # LightGBM + clipped RUL + engineered features + selection\n",
    "    lgb_model = lgb.LGBMRegressor(n_estimators=200, learning_rate=0.1, max_depth=6,\n",
    "                                  num_leaves=31, min_child_samples=20, subsample=0.8,\n",
    "                                  colsample_bytree=0.8, reg_alpha=0.1, reg_lambda=1,\n",
    "                                  random_state=42, verbose=-1)\n",
    "    lgb_model.fit(X_train_transformed[:, select_features.get_support()], y_train_clipped)\n",
    "    \n",
    "    # predict and evaluate\n",
    "    y_hat_train = lgb_model.predict(X_train_transformed[:, select_features.get_support()])\n",
    "    evaluate(y_train_clipped, y_hat_train, 'train')\n",
    "    \n",
    "    y_hat_test = lgb_model.predict(X_test_transformed[:, select_features.get_support()])\n",
    "    evaluate(y_test, y_hat_test)\n",
    "    \n",
    "    # save the model\n",
    "    joblib.dump(lgb_model, 'model/lgb_model.pkl')\n",
    "except ImportError:\n",
    "    print(\"LightGBM not installed. Install with: pip install lightgbm\")"
   ]
  },
  {
   "cell_type": "markdown",
   "id": "66e4ea9f",
   "metadata": {},
   "source": [
    "## LightGBM Regressor"
   ]
  },
  {
   "cell_type": "code",
   "execution_count": 23,
   "id": "5e9e2be1",
   "metadata": {},
   "outputs": [
    {
     "name": "stdout",
     "output_type": "stream",
     "text": [
      "train set RMSE:12.20893610137833, R2:0.9141673445701599\n",
      "test set RMSE:18.726047526294256, R2:0.7969360947608948\n"
     ]
    }
   ],
   "source": [
    "try:\n",
    "    import xgboost as xgb\n",
    "    \n",
    "    # XGBoost + clipped RUL + engineered features + selection\n",
    "    xgb_model = xgb.XGBRegressor(n_estimators=200, learning_rate=0.1, max_depth=6,\n",
    "                                 min_child_weight=3, subsample=0.8, colsample_bytree=0.8,\n",
    "                                 gamma=0, reg_alpha=0.1, reg_lambda=1, random_state=42)\n",
    "    xgb_model.fit(X_train_transformed[:, select_features.get_support()], y_train_clipped)\n",
    "    \n",
    "    # predict and evaluate\n",
    "    y_hat_train = xgb_model.predict(X_train_transformed[:, select_features.get_support()])\n",
    "    evaluate(y_train_clipped, y_hat_train, 'train')\n",
    "    \n",
    "    y_hat_test = xgb_model.predict(X_test_transformed[:, select_features.get_support()])\n",
    "    evaluate(y_test, y_hat_test)\n",
    "    \n",
    "    # save the model\n",
    "    joblib.dump(xgb_model, 'model/xgb_model.pkl')\n",
    "except ImportError:\n",
    "    print(\"XGBoost not installed. Install with: pip install xgboost\")"
   ]
  },
  {
   "cell_type": "markdown",
   "id": "d55cb411",
   "metadata": {},
   "source": [
    "## XGBoost Regressor"
   ]
  },
  {
   "cell_type": "code",
   "execution_count": 24,
   "id": "d6234274",
   "metadata": {},
   "outputs": [
    {
     "name": "stdout",
     "output_type": "stream",
     "text": [
      "train set RMSE:14.302779555511796, R2:0.8822020200571202\n",
      "test set RMSE:18.300695048383012, R2:0.8060563233877586\n"
     ]
    },
    {
     "data": {
      "text/plain": [
       "['model/gb_model.pkl']"
      ]
     },
     "execution_count": 24,
     "metadata": {},
     "output_type": "execute_result"
    }
   ],
   "source": [
    "from sklearn.ensemble import GradientBoostingRegressor\n",
    "\n",
    "# Gradient Boosting + clipped RUL + engineered features + selection\n",
    "gb = GradientBoostingRegressor(n_estimators=200, learning_rate=0.1, max_depth=5,\n",
    "                               min_samples_split=5, min_samples_leaf=2, \n",
    "                               subsample=0.8, random_state=42)\n",
    "gb.fit(X_train_transformed[:, select_features.get_support()], y_train_clipped)\n",
    "\n",
    "# predict and evaluate\n",
    "y_hat_train = gb.predict(X_train_transformed[:, select_features.get_support()])\n",
    "evaluate(y_train_clipped, y_hat_train, 'train')\n",
    "\n",
    "y_hat_test = gb.predict(X_test_transformed[:, select_features.get_support()])\n",
    "evaluate(y_test, y_hat_test)\n",
    "\n",
    "# save the model\n",
    "joblib.dump(gb, 'model/gb_model.pkl')"
   ]
  },
  {
   "cell_type": "markdown",
   "id": "c440dae1",
   "metadata": {},
   "source": [
    "## Gradient Boosting Regressor"
   ]
  },
  {
   "cell_type": "code",
   "execution_count": 25,
   "id": "da2fa840",
   "metadata": {},
   "outputs": [
    {
     "name": "stdout",
     "output_type": "stream",
     "text": [
      "train set RMSE:8.978757476372513, R2:0.9535774027090889\n",
      "test set RMSE:18.388202504653588, R2:0.8041971487875237\n"
     ]
    },
    {
     "data": {
      "text/plain": [
       "['model/rf_model.pkl']"
      ]
     },
     "execution_count": 25,
     "metadata": {},
     "output_type": "execute_result"
    }
   ],
   "source": [
    "from sklearn.ensemble import RandomForestRegressor\n",
    "\n",
    "# Random Forest + clipped RUL + engineered features + selection\n",
    "rf = RandomForestRegressor(n_estimators=100, max_depth=20, min_samples_split=5, \n",
    "                           min_samples_leaf=2, random_state=42, n_jobs=-1)\n",
    "rf.fit(X_train_transformed[:, select_features.get_support()], y_train_clipped)\n",
    "\n",
    "# predict and evaluate\n",
    "y_hat_train = rf.predict(X_train_transformed[:, select_features.get_support()])\n",
    "evaluate(y_train_clipped, y_hat_train, 'train')\n",
    "\n",
    "y_hat_test = rf.predict(X_test_transformed[:, select_features.get_support()])\n",
    "evaluate(y_test, y_hat_test)\n",
    "\n",
    "# save the model\n",
    "joblib.dump(rf, 'model/rf_model.pkl')"
   ]
  }
 ],
 "metadata": {
  "kernelspec": {
   "display_name": "pulse-reader",
   "language": "python",
   "name": "python3"
  },
  "language_info": {
   "codemirror_mode": {
    "name": "ipython",
    "version": 3
   },
   "file_extension": ".py",
   "mimetype": "text/x-python",
   "name": "python",
   "nbconvert_exporter": "python",
   "pygments_lexer": "ipython3",
   "version": "3.13.3"
  }
 },
 "nbformat": 4,
 "nbformat_minor": 5
}
